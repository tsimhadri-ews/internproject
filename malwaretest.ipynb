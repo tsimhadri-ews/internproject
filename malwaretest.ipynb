{
 "cells": [
  {
   "cell_type": "code",
   "execution_count": null,
   "id": "ad06f6c5-6eb0-4452-8354-fb2015063d8f",
   "metadata": {},
   "outputs": [],
   "source": [
    "import pandas as pd\n",
    "import numpy as np\n",
    "import matplotlib.pyplot as plt\n",
    "import seaborn as sns\n",
    "import time\n",
    "\n",
    "from sklearn.feature_selection import RFE\n",
    "from sklearn.feature_selection import SelectKBest\n",
    "from sklearn.feature_selection import f_classif\n",
    "from sklearn.feature_selection import SelectFromModel\n",
    "\n",
    "from sklearn.preprocessing import StandardScaler\n",
    "from sklearn.model_selection import train_test_split\n",
    "\n",
    "from sklearn.ensemble import ExtraTreesClassifier\n",
    "from sklearn.neighbors import KNeighborsClassifier\n",
    "from sklearn.ensemble import RandomForestClassifier\n",
    "from sklearn.tree import DecisionTreeClassifier\n",
    "from sklearn.linear_model import LogisticRegression\n",
    "from sklearn import svm\n",
    "from sklearn.naive_bayes import GaussianNB\n",
    "\n",
    "from sklearn.metrics import classification_report, confusion_matrix, accuracy_score, ConfusionMatrixDisplay\n",
    "from sklearn.model_selection import cross_val_score, KFold"
   ]
  },
  {
   "cell_type": "code",
   "execution_count": null,
   "id": "a6b79f76-c140-4c46-9c4f-22ae9c381bec",
   "metadata": {
    "scrolled": true
   },
   "outputs": [],
   "source": [
    "df = pd.read_csv('MalwareData.csv', sep='|')\n",
    "df.head(10)"
   ]
  },
  {
   "cell_type": "code",
   "execution_count": null,
   "id": "bb088c49-9594-441d-ade4-9f678313b764",
   "metadata": {},
   "outputs": [],
   "source": [
    "df = df.drop(columns=['Name', 'md5'])"
   ]
  },
  {
   "cell_type": "code",
   "execution_count": null,
   "id": "48906a94-006b-4121-b381-7d5ac539be9c",
   "metadata": {},
   "outputs": [],
   "source": [
    "# Check for na values\n",
    "df.isna().sum()"
   ]
  },
  {
   "cell_type": "code",
   "execution_count": null,
   "id": "2f83d44e-d08e-4cd2-bfd5-827dc6048e71",
   "metadata": {},
   "outputs": [],
   "source": [
    "# Check unique values if any column has only 1\n",
    "for c in df.columns:\n",
    "    print(c + \": {} unique values\".format(len(df[c].unique())))"
   ]
  },
  {
   "cell_type": "code",
   "execution_count": null,
   "id": "895d5845-cf56-4ea2-9b6a-8b61e137d006",
   "metadata": {},
   "outputs": [],
   "source": [
    "#dict = {332:\"x86\", 34404 : \"x64\", 512:\"IA64\"}\n",
    "#df['machine_pe'] = \"\"\n",
    "#for index, row in df.iterrows():\n",
    "#    val = row['Machine']\n",
    "#    df.at[index, 'machine_pe'] = dict[val]\n",
    "#df = df.drop(columns = ['Machine'])\n",
    "#df = pd.get_dummies(df, columns = ['machine_pe'], dtype='int')\n",
    "#df"
   ]
  },
  {
   "cell_type": "code",
   "execution_count": null,
   "id": "1103557c-48e6-49f7-9631-5fa10bcb84be",
   "metadata": {},
   "outputs": [],
   "source": [
    "# Separate features and target variable\n",
    "X = df.drop(columns=['legitimate'])\n",
    "\n",
    "# standardize data\n",
    "scaler = StandardScaler()\n",
    "X_scaled = scaler.fit_transform(X)\n",
    "y = df['legitimate']"
   ]
  },
  {
   "cell_type": "code",
   "execution_count": null,
   "id": "98427806-26dc-4b39-ab3f-6f3c2653f8e3",
   "metadata": {},
   "outputs": [],
   "source": [
    "def run_model(model_type, model, X, y):\n",
    "    print(model_type, \"classifier:\")\n",
    "    X_train, X_test, y_train, y_test = train_test_split(X, y, test_size = 0.20)    # Fit the classifier\n",
    "    \n",
    "    start_time = time.time()  # Start time\n",
    "\n",
    "    model.fit(X_train, y_train)\n",
    "    \n",
    "    end_time = time.time()  # End time\n",
    "    time_taken = end_time - start_time  # Time taken to run the code\n",
    "\n",
    "    print(f\"Time taken to run the code: {time_taken} seconds\")\n",
    "    \n",
    "    # Make predictions\n",
    "    y_pred = model.predict(X_test)\n",
    "    acc = accuracy_score(y_test, y_pred)\n",
    "    print(\"Accuracy:\", acc)\n",
    "    cm = confusion_matrix(y_test, y_pred, labels=model.classes_)\n",
    "    disp = ConfusionMatrixDisplay(confusion_matrix=cm, display_labels=model.classes_)\n",
    "    disp.plot()\n",
    "    plt.show()\n",
    "    # print(classification_report(y_test,y_pred))\n",
    "    \n",
    "    #K-Fold validation \n",
    "    num_folds = 5\n",
    "    \n",
    "    kf = KFold(n_splits=num_folds, shuffle=True, random_state=42)\n",
    "    \n",
    "    cv_scores = cross_val_score(model, X, y, cv=kf)\n",
    "    \n",
    "    print(\"Cross-validation scores:\", cv_scores)\n",
    "    print(\"Mean CV accuracy:\", cv_scores.mean())\n",
    "    print(\"Standard deviation of CV accuracy:\", cv_scores.std())"
   ]
  },
  {
   "cell_type": "code",
   "execution_count": null,
   "id": "3a266951-6393-4346-8110-3cb9a4650261",
   "metadata": {},
   "outputs": [],
   "source": [
    "correlation_matrix = X.corr()\n",
    "# Set up the figure size\n",
    "f, ax = plt.subplots(figsize=(32, 32))\n",
    "# Create a heatmap using seaborn\n",
    "sns.heatmap(correlation_matrix, cmap='coolwarm', linewidth=.5, ax=ax)\n",
    "# Set the title and show the plot\n",
    "plt.title('Correlation Matrix')\n",
    "plt.show()"
   ]
  },
  {
   "cell_type": "code",
   "execution_count": null,
   "id": "6ff7ceef-7a02-47fb-8892-36265a516ad0",
   "metadata": {},
   "outputs": [],
   "source": [
    "cols_to_drop = []\n",
    "for i in X.columns:\n",
    "    corrs = [0 if x == 1 else abs(x) for x in correlation_matrix[i]]\n",
    "    if max(corrs) > 0.6:\n",
    "        cols_to_drop.append(i)\n",
    "print(cols_to_drop)\n",
    "print(len(cols_to_drop))"
   ]
  },
  {
   "cell_type": "code",
   "execution_count": null,
   "id": "64947136-3e0a-4820-9ee7-200ba1c82efa",
   "metadata": {},
   "outputs": [],
   "source": [
    "X_lr = X.drop(columns=cols_to_drop)\n",
    "X_scaled_lr = scaler.fit_transform(X_lr)"
   ]
  },
  {
   "cell_type": "code",
   "execution_count": null,
   "id": "17be2bc5-d3ae-4939-965b-375556b59860",
   "metadata": {},
   "outputs": [],
   "source": [
    "lr_model = LogisticRegression(random_state=42, max_iter=1000)\n",
    "run_model('Logistic Regression', lr_model, X_scaled_lr, y)"
   ]
  },
  {
   "cell_type": "code",
   "execution_count": null,
   "id": "61aac063-d44d-4f68-9d84-2153c0ba2597",
   "metadata": {},
   "outputs": [],
   "source": [
    "selector_uv = SelectKBest(f_classif, k=10)\n",
    "X_uv = selector_uv.fit_transform(X_scaled, y)\n",
    "print(X_uv.shape)\n",
    "print(selector_uv.get_feature_names_out(input_features=df.columns[:-1]))\n",
    "rf_uv = DecisionTreeClassifier(random_state=42)\n",
    "run_model('Decision Tree', rf_uv, X_uv, y)"
   ]
  },
  {
   "cell_type": "code",
   "execution_count": null,
   "id": "23ed59bf-289d-48b7-85ff-b7ac7920fa35",
   "metadata": {},
   "outputs": [],
   "source": [
    "model_rfe = DecisionTreeClassifier(random_state=42)\n",
    "selector_rfe = RFE(model_rfe, n_features_to_select=10)\n",
    "selector_rfe = selector_rfe.fit(X_scaled, y)"
   ]
  },
  {
   "cell_type": "code",
   "execution_count": null,
   "id": "4f0c5251-b843-4252-8a8d-087cd65fadd5",
   "metadata": {},
   "outputs": [],
   "source": [
    "selector_rfe.get_feature_names_out(input_features=df.columns[:-1])"
   ]
  },
  {
   "cell_type": "code",
   "execution_count": null,
   "id": "3c82a4ce-6622-4ef3-ba04-85923ccbc877",
   "metadata": {},
   "outputs": [],
   "source": [
    "X_rfe = selector_rfe.transform(X_scaled)\n",
    "print(X_rfe.shape)\n",
    "dt_rfe = DecisionTreeClassifier(random_state=42)\n",
    "run_model('Decision Tree', dt_rfe, X_rfe, y)"
   ]
  },
  {
   "cell_type": "code",
   "execution_count": null,
   "id": "5a1ca49e-5ac2-48bf-bb2a-91f5909a7719",
   "metadata": {},
   "outputs": [],
   "source": [
    "clf = ExtraTreesClassifier(random_state=42, max_features = 15).fit(X_scaled, y)\n",
    "model = SelectFromModel(clf, prefit=True)\n",
    "X_tb = model.transform(X_scaled)\n",
    "print(X_tb.shape)"
   ]
  },
  {
   "cell_type": "code",
   "execution_count": null,
   "id": "ebaf633e-aa82-4759-aab3-25230a951032",
   "metadata": {},
   "outputs": [],
   "source": [
    "# See which columns are selected\n",
    "cols = X_tb.shape[1]\n",
    "inds = np.argsort(clf.feature_importances_)[::-1][:cols]\n",
    "for i in range(cols):\n",
    "    print(df.columns[inds[i]], clf.feature_importances_[inds[i]])\n",
    "\n",
    "plt.figure(figsize=(12, 12))\n",
    "plt.bar(X.columns, clf.feature_importances_)\n",
    "plt.xticks(rotation=90)\n",
    "plt.xlabel('Feature Labels')\n",
    "plt.ylabel('Feature Importances')\n",
    "plt.title('Comparison of different Feature Importances')\n",
    "plt.show()"
   ]
  },
  {
   "cell_type": "code",
   "execution_count": null,
   "id": "dff1e667-f3ca-4239-9fbd-551b583a81a9",
   "metadata": {},
   "outputs": [],
   "source": [
    "dt_tb = DecisionTreeClassifier(random_state=42)\n",
    "run_model('Decision Tree', dt_tb, X_tb, y)"
   ]
  },
  {
   "cell_type": "code",
   "execution_count": null,
   "id": "93f89631-a8c4-4e77-b3d9-23d0e80b730f",
   "metadata": {},
   "outputs": [],
   "source": [
    "# Train test split\n",
    "#X_train, X_test, y_train, y_test = train_test_split(X_scaled, y, test_size = 0.20)"
   ]
  },
  {
   "cell_type": "code",
   "execution_count": null,
   "id": "c8fef0f1-da69-4eb8-838d-5dafae418a94",
   "metadata": {},
   "outputs": [],
   "source": [
    "#models = {}\n",
    "#models['Logistic Regression'] = LogisticRegression(random_state=42)\n",
    "#models['Decision Trees'] = DecisionTreeClassifier(random_state=42)\n",
    "#models['Random Forest'] = RandomForestClassifier(random_state=42)\n",
    "#models['K-Nearest Neighbor'] = KNeighborsClassifier(n_neighbors = 5)\n",
    "#models['SVM'] = svm.SVC(kernel='linear')\n",
    "#models['Gaussian Naive Bayes'] = GaussianNB()"
   ]
  },
  {
   "cell_type": "code",
   "execution_count": null,
   "id": "35020db5-2edd-4810-868e-d4589f8c2635",
   "metadata": {},
   "outputs": [],
   "source": []
  }
 ],
 "metadata": {
  "kernelspec": {
   "display_name": "Python 3 (ipykernel)",
   "language": "python",
   "name": "python3"
  },
  "language_info": {
   "codemirror_mode": {
    "name": "ipython",
    "version": 3
   },
   "file_extension": ".py",
   "mimetype": "text/x-python",
   "name": "python",
   "nbconvert_exporter": "python",
   "pygments_lexer": "ipython3",
   "version": "3.12.3"
  }
 },
 "nbformat": 4,
 "nbformat_minor": 5
}
